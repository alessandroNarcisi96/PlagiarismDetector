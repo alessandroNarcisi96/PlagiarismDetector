{
 "cells": [
  {
   "cell_type": "markdown",
   "metadata": {},
   "source": [
    "## Types of Plagiarism\n",
    "\n",
    "Each text file is associated with one **Task** (task A-E) and one **Category** of plagiarism, which you can see in the above DataFrame.\n",
    "\n",
    "###  Tasks, A-E\n",
    "\n",
    "Each text file contains an answer to one short question; these questions are labeled as tasks A-E. For example, Task A asks the question: \"What is inheritance in object oriented programming?\"\n",
    "\n",
    "### Categories of plagiarism \n",
    "\n",
    "Each text file has an associated plagiarism label/category:\n",
    "\n",
    "**1. Plagiarized categories: `cut`, `light`, and `heavy`.**\n",
    "* These categories represent different levels of plagiarized answer texts. `cut` answers copy directly from a source text, `light` answers are based on the source text but include some light rephrasing, and `heavy` answers are based on the source text, but *heavily* rephrased (and will likely be the most challenging kind of plagiarism to detect).\n",
    "     \n",
    "**2. Non-plagiarized category: `non`.** \n",
    "* `non` indicates that an answer is not plagiarized; the Wikipedia source text is not used to create this answer.\n",
    "    \n",
    "**3. Special, source text category: `orig`.**\n",
    "* This is a specific category for the original, Wikipedia source text. We will use these files only for comparison purposes."
   ]
  },
  {
   "cell_type": "code",
   "execution_count": 28,
   "metadata": {},
   "outputs": [
    {
     "data": {
      "image/png": "[encoded data removed]",
      "text/plain": [
       "<Figure size 432x288 with 1 Axes>"
      ]
     },
     "metadata": {
      "needs_background": "light"
     },
     "output_type": "display_data"
    },
    {
     "data": {
      "image/png": "[encoded data removed]",
      "text/plain": [
       "<Figure size 720x576 with 1 Axes>"
      ]
     },
     "metadata": {
      "needs_background": "light"
     },
     "output_type": "display_data"
    },
    {
     "name": "stderr",
     "output_type": "stream",
     "text": [
      "\n",
      "KeyboardInterrupt\n",
      "\n"
     ]
    }
   ],
   "source": [
    "import pandas as pd\n",
    "import numpy as np\n",
    "import os\n",
    "import matplotlib.pyplot as plt\n",
    "\n",
    "csv_file = 'data/file_information.csv'\n",
    "plagiarism_df = pd.read_csv(csv_file)\n",
    "\n",
    "# print out the first rows of data info\n",
    "plagiarism_df.head()\n",
    "def addPlagiarismClass(category):\n",
    "    if category == -1:\n",
    "        return -1\n",
    "    elif  category == 0:\n",
    "        return 0\n",
    "    else:\n",
    "        return 1\n",
    "\n",
    "dictPlagiarismToInt= { \"non\": 0,\"heavy\": 1,\"light\": 2,\"cut\" : 3, \"orig\":-1}                                                        \n",
    "plagiarism_df['Category'] = plagiarism_df['Category'].apply(lambda x: dictPlagiarismToInt[x])\n",
    "plagiarism_df['Class'] = plagiarism_df['Category'].apply(lambda x: addPlagiarismClass(x))\n",
    "\n",
    "\n",
    "plt.hist(sorted(plagiarism_df.Class.astype(str)),weights=np.ones(len(plagiarism_df.Class)) / len(plagiarism_df.Class))\n",
    "# check work\n",
    "# check that all categories of plagiarism have a class label = 1\n",
    "plagiarism_df.head(10)\n",
    "import helpers \n",
    "\n",
    "# create a text column \n",
    "plagiarism_df = helpers.create_text_column(plagiarism_df)\n",
    "plagiarism_df['Length'] = plagiarism_df['Text'].apply(lambda x: len(x))\n",
    "\n",
    "orig = plagiarism_df[plagiarism_df['Category']==-1]\n",
    "notPlag = plagiarism_df[plagiarism_df['Category']==0]\n",
    "heavy = plagiarism_df[plagiarism_df['Category']==1]\n",
    "light = plagiarism_df[plagiarism_df['Category']==2]\n",
    "cut = plagiarism_df[plagiarism_df['Category']==3]\n",
    "\n",
    "\n",
    "data = [orig.Length,notPlag.Length,heavy.Length,light.Length,cut.Length]\n",
    "labels = ['Orig','NotPlagiarism','Heavy','Light','Cut']\n",
    "# plot the figure\n",
    "plt.figure(figsize=(10, 8))\n",
    "plt.boxplot(data, labels=labels)\n",
    "plt.title(\"Multiple Box Plot\", fontsize=16)\n",
    "plt.xlabel(\"Type\", fontsize=14)\n",
    "plt.ylabel(\"TextLength\", fontsize=14)\n",
    "plt.savefig(\"box_mat6\")\n",
    "plt.show()\n",
    "\n",
    "plagiarism_df = helpers.train_test_dataframe(plagiarism_df, random_seed=1)\n",
    "\n",
    "plag = plagiarism_df[plagiarism_df['Category']!=-1]\n",
    "orig = plagiarism_df[plagiarism_df['Category']==-1]\n",
    "#print(plag.Task)\n",
    "#plag.apply(lambda x: print(x.Task),1)\n",
    "def ComputeNGrams(textPlag,orig):\n",
    "    a=3\n",
    "    pass\n",
    "plag['nGrams'] = plag.apply(lambda x: ComputeNGrams(x['Text'],orig[orig['Task'] == x['Task']]).Text,1)\n",
    "\n",
    "\n",
    "\n"
   ]
  }
 ],
 "metadata": {
  "interpreter": {
   "hash": "32798353cdefc0e05bd67fafda3a5da58460332e426bf014f400873c088190bd"
  },
  "kernelspec": {
   "display_name": "Python 3.8.2 ('Plagiarism': venv)",
   "language": "python",
   "name": "python3"
  },
  "language_info": {
   "codemirror_mode": {
    "name": "ipython",
    "version": 3
   },
   "file_extension": ".py",
   "mimetype": "text/x-python",
   "name": "python",
   "nbconvert_exporter": "python",
   "pygments_lexer": "ipython3",
   "version": "3.8.2"
  },
  "orig_nbformat": 4
 },
 "nbformat": 4,
 "nbformat_minor": 2
}
